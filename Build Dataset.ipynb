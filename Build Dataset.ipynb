{
 "cells": [
  {
   "cell_type": "code",
   "execution_count": null,
   "metadata": {},
   "outputs": [],
   "source": [
    "import pandas as pd\n",
    "import numpy as np\n",
    "import synthetic"
   ]
  },
  {
   "cell_type": "code",
   "execution_count": null,
   "metadata": {},
   "outputs": [],
   "source": [
    "data_files = [pd.read_csv(f) for f in [\"data1.csv\",\"data2.csv\",\"data3.csv\",\"data4.csv\"]]\n",
    "swap_set = pd.read_csv(\"data5.csv\").astype(np.str)"
   ]
  },
  {
   "cell_type": "code",
   "execution_count": 3,
   "metadata": {},
   "outputs": [],
   "source": [
    "full_data = pd.concat(data_files).astype(np.str)"
   ]
  },
  {
   "cell_type": "code",
   "execution_count": 4,
   "metadata": {},
   "outputs": [],
   "source": [
    "reduced_data = full_data.drop([\"first_name\",\"first_name2\",\"last_name\",\"last_name2\",\"email\",\"address\",\"city2\",\"zip2\",\"state2\"],axis=1)"
   ]
  },
  {
   "cell_type": "code",
   "execution_count": 5,
   "metadata": {},
   "outputs": [],
   "source": [
    "reduced_data.columns = [\"first_name\",\"last_name\",\"email\",\"address\",\"ssn\",\"sex\",\"city\",\"zip\",\"state\",\"dob\",\"phone\",\"phone2\",\"phone3\",\"race\",\"pcp_npi\",\"suffix\",\"title\"]"
   ]
  },
  {
   "cell_type": "code",
   "execution_count": 6,
   "metadata": {},
   "outputs": [],
   "source": [
    "id_column = np.concatenate([np.arange(300000),np.arange(200000,400000)])"
   ]
  },
  {
   "cell_type": "code",
   "execution_count": null,
   "metadata": {},
   "outputs": [],
   "source": []
  },
  {
   "cell_type": "code",
   "execution_count": 7,
   "metadata": {},
   "outputs": [],
   "source": [
    "id_column[np.logical_not(np.logical_and(id_column >= 200000,id_column<300000))] = -1"
   ]
  },
  {
   "cell_type": "code",
   "execution_count": 8,
   "metadata": {},
   "outputs": [
    {
     "data": {
      "text/plain": [
       "200000"
      ]
     },
     "execution_count": 8,
     "metadata": {},
     "output_type": "execute_result"
    }
   ],
   "source": [
    "np.sum(id_column != -1)"
   ]
  },
  {
   "cell_type": "code",
   "execution_count": null,
   "metadata": {},
   "outputs": [],
   "source": [
    "from collections import Counter"
   ]
  },
  {
   "cell_type": "code",
   "execution_count": 9,
   "metadata": {},
   "outputs": [],
   "source": [
    "left = reduced_data.iloc[:300000].copy()\n",
    "right = reduced_data.iloc[200000:].copy()"
   ]
  },
  {
   "cell_type": "code",
   "execution_count": 13,
   "metadata": {},
   "outputs": [],
   "source": [
    "complete_data = pd.concat([left,right])\n",
    "complete_data.reset_index(drop=True,inplace=True)"
   ]
  },
  {
   "cell_type": "code",
   "execution_count": 14,
   "metadata": {},
   "outputs": [],
   "source": [
    "complete_indcs_df = {}"
   ]
  },
  {
   "cell_type": "code",
   "execution_count": 15,
   "metadata": {},
   "outputs": [
    {
     "name": "stdout",
     "output_type": "stream",
     "text": [
      "Transpose Complete.\n",
      "Delete Complete.\n",
      "Insert Alpha Complete.\n",
      "Insert Numeric Complete.\n",
      "Soundex Corrupt Complete.\n",
      "Edit Values Complete.\n",
      "Per-Column Drop Complete.\n"
     ]
    }
   ],
   "source": [
    "synthetic.string_transpose(complete_data,complete_indcs_df,4,0.05)\n",
    "print(\"Transpose Complete.\")\n",
    "synthetic.string_delete(complete_data,complete_indcs_df,3,0.05)\n",
    "print(\"Delete Complete.\")\n",
    "synthetic.string_insert_alpha(complete_data,complete_indcs_df,3,0.05,columns=[\"first_name\",\"last_name\",\"email\",\"address\",\"city\",\"title\"])\n",
    "print(\"Insert Alpha Complete.\")\n",
    "synthetic.string_insert_numeric(complete_data,complete_indcs_df,3,0.05,columns=[\"phone\",\"phone2\",\"phone3\",\"zip\"])\n",
    "print(\"Insert Numeric Complete.\")\n",
    "synthetic.soundex_string_corrupt(complete_data,complete_indcs_df,0.1,columns=[\"first_name\",\"last_name\"])\n",
    "print(\"Soundex Corrupt Complete.\")\n",
    "synthetic.edit_values(complete_data,swap_set,complete_indcs_df,0.1)\n",
    "print(\"Edit Values Complete.\")\n",
    "\n",
    "columns = [\"first_name\",\n",
    "            \"last_name\",\n",
    "            \"email\",\n",
    "            \"address\",\n",
    "            \"ssn\",\n",
    "            \"sex\",\n",
    "            \"city\",\n",
    "            \"zip\",\n",
    "            \"state\",\n",
    "            \"dob\",\n",
    "            \"phone\",\n",
    "            \"phone2\",\n",
    "            \"phone3\",\n",
    "            \"race\",\n",
    "            \"pcp_npi\",\n",
    "            \"suffix\",\n",
    "            \"title\"]\n",
    "\n",
    "drop_pcts = [0.03,\n",
    "             0.03,\n",
    "             0.75,\n",
    "             0.06,\n",
    "             0.25,\n",
    "             0.07,\n",
    "             0.07,\n",
    "             0.07,\n",
    "             0.02,\n",
    "             0.02,\n",
    "             0.85,\n",
    "             0.85,\n",
    "             0.2,\n",
    "             0.2,\n",
    "             0.99,\n",
    "             0.2]\n",
    "\n",
    "synthetic.drop_per_column(complete_data,complete_indcs_df,drop_pct=drop_pcts,columns=columns)\n",
    "print(\"Per-Column Drop Complete.\")"
   ]
  },
  {
   "cell_type": "code",
   "execution_count": 16,
   "metadata": {},
   "outputs": [
    {
     "data": {
      "text/plain": [
       "500000"
      ]
     },
     "execution_count": 16,
     "metadata": {},
     "output_type": "execute_result"
    }
   ],
   "source": [
    "len(complete_data)"
   ]
  },
  {
   "cell_type": "code",
   "execution_count": 17,
   "metadata": {},
   "outputs": [],
   "source": [
    "import pickle"
   ]
  },
  {
   "cell_type": "code",
   "execution_count": 18,
   "metadata": {},
   "outputs": [],
   "source": [
    "pickle.dump(complete_indcs_df,open(\"corrupted_v2_stats.pkl\",\"wb\"))"
   ]
  },
  {
   "cell_type": "code",
   "execution_count": 19,
   "metadata": {},
   "outputs": [],
   "source": [
    "complete_data[\"id\"] = id_column"
   ]
  },
  {
   "cell_type": "code",
   "execution_count": 20,
   "metadata": {},
   "outputs": [
    {
     "data": {
      "text/html": [
       "<div>\n",
       "<style scoped>\n",
       "    .dataframe tbody tr th:only-of-type {\n",
       "        vertical-align: middle;\n",
       "    }\n",
       "\n",
       "    .dataframe tbody tr th {\n",
       "        vertical-align: top;\n",
       "    }\n",
       "\n",
       "    .dataframe thead th {\n",
       "        text-align: right;\n",
       "    }\n",
       "</style>\n",
       "<table border=\"1\" class=\"dataframe\">\n",
       "  <thead>\n",
       "    <tr style=\"text-align: right;\">\n",
       "      <th></th>\n",
       "      <th>first_name</th>\n",
       "      <th>last_name</th>\n",
       "      <th>email</th>\n",
       "      <th>address</th>\n",
       "      <th>ssn</th>\n",
       "      <th>sex</th>\n",
       "      <th>city</th>\n",
       "      <th>zip</th>\n",
       "      <th>state</th>\n",
       "      <th>dob</th>\n",
       "      <th>phone</th>\n",
       "      <th>phone2</th>\n",
       "      <th>phone3</th>\n",
       "      <th>race</th>\n",
       "      <th>pcp_npi</th>\n",
       "      <th>suffix</th>\n",
       "      <th>title</th>\n",
       "      <th>id</th>\n",
       "    </tr>\n",
       "  </thead>\n",
       "  <tbody>\n",
       "    <tr>\n",
       "      <th>299999</th>\n",
       "      <td>Marigold</td>\n",
       "      <td>Daniaud</td>\n",
       "      <td></td>\n",
       "      <td>4794 Oriole Drive</td>\n",
       "      <td>474-04-7575</td>\n",
       "      <td>F</td>\n",
       "      <td>Houston</td>\n",
       "      <td>77055</td>\n",
       "      <td>Texas</td>\n",
       "      <td>2017/05/15</td>\n",
       "      <td></td>\n",
       "      <td></td>\n",
       "      <td>337-145-9162</td>\n",
       "      <td>Taiwanese</td>\n",
       "      <td></td>\n",
       "      <td>II</td>\n",
       "      <td>Honorable</td>\n",
       "      <td>299999</td>\n",
       "    </tr>\n",
       "    <tr>\n",
       "      <th>399999</th>\n",
       "      <td>Marigold</td>\n",
       "      <td>Dainuad</td>\n",
       "      <td></td>\n",
       "      <td>94794 Oriole Drive</td>\n",
       "      <td></td>\n",
       "      <td>F</td>\n",
       "      <td>oHusotn</td>\n",
       "      <td>77055</td>\n",
       "      <td>Texas</td>\n",
       "      <td>2017/05/15</td>\n",
       "      <td>71435-922-95979</td>\n",
       "      <td>408-922-5964</td>\n",
       "      <td>337-145-9162</td>\n",
       "      <td>Taiwanese</td>\n",
       "      <td></td>\n",
       "      <td>II</td>\n",
       "      <td>Honorable</td>\n",
       "      <td>299999</td>\n",
       "    </tr>\n",
       "  </tbody>\n",
       "</table>\n",
       "</div>"
      ],
      "text/plain": [
       "       first_name last_name email             address          ssn sex  \\\n",
       "299999   Marigold   Daniaud         4794 Oriole Drive  474-04-7575   F   \n",
       "399999   Marigold   Dainuad        94794 Oriole Drive                F   \n",
       "\n",
       "           city    zip  state         dob            phone        phone2  \\\n",
       "299999  Houston  77055  Texas  2017/05/15                                  \n",
       "399999  oHusotn  77055  Texas  2017/05/15  71435-922-95979  408-922-5964   \n",
       "\n",
       "              phone3       race pcp_npi suffix      title      id  \n",
       "299999  337-145-9162  Taiwanese             II  Honorable  299999  \n",
       "399999  337-145-9162  Taiwanese             II  Honorable  299999  "
      ]
     },
     "execution_count": 20,
     "metadata": {},
     "output_type": "execute_result"
    }
   ],
   "source": [
    "complete_data[complete_data.id == 299999]"
   ]
  },
  {
   "cell_type": "code",
   "execution_count": null,
   "metadata": {},
   "outputs": [],
   "source": [
    "complete_indcs_df"
   ]
  },
  {
   "cell_type": "code",
   "execution_count": 24,
   "metadata": {},
   "outputs": [
    {
     "data": {
      "text/plain": [
       "{'string_transpose': {'num_transposed': 2, 'idcs_transposed': array([4, 0])}}"
      ]
     },
     "execution_count": 24,
     "metadata": {},
     "output_type": "execute_result"
    }
   ],
   "source": [
    "complete_indcs_df[(6,399999)]"
   ]
  },
  {
   "cell_type": "code",
   "execution_count": 25,
   "metadata": {},
   "outputs": [],
   "source": [
    "complete_data.to_csv(\"corrupted_v2.csv\",index=None)"
   ]
  },
  {
   "cell_type": "markdown",
   "metadata": {},
   "source": [
    "## Old Code "
   ]
  },
  {
   "cell_type": "raw",
   "metadata": {},
   "source": [
    "left_indcs_df = {}"
   ]
  },
  {
   "cell_type": "raw",
   "metadata": {},
   "source": [
    "synthetic.string_transpose(left,left_indcs_df,4,0.05)\n",
    "print(\"Transpose Complete.\")\n",
    "synthetic.string_delete(left,left_indcs_df,3,0.05)\n",
    "print(\"Delete Complete.\")\n",
    "synthetic.string_insert_alpha(left,left_indcs_df,3,0.05,columns=[\"first_name\",\"last_name\",\"email\",\"address\",\"city\",\"title\"])\n",
    "print(\"Insert Alpha Complete.\")\n",
    "synthetic.string_insert_numeric(left,left_indcs_df,3,0.05,columns=[\"phone\",\"phone2\",\"phone3\",\"zip\"])\n",
    "print(\"Insert Numeric Complete.\")\n",
    "synthetic.soundex_string_corrupt(left,left_indcs_df,0.1,columns=[\"first_name\",\"last_name\"])\n",
    "print(\"Soundex Corrupt Complete.\")\n",
    "synthetic.edit_values(left,swap_set,left_indcs_df,0.1)\n",
    "print(\"Edit Values Complete.\")\n",
    "\n",
    "columns = [\"first_name\",\n",
    "            \"last_name\",\n",
    "            \"email\",\n",
    "            \"address\",\n",
    "            \"ssn\",\n",
    "            \"sex\",\n",
    "            \"city\",\n",
    "            \"zip\",\n",
    "            \"state\",\n",
    "            \"dob\",\n",
    "            \"phone\",\n",
    "            \"phone2\",\n",
    "            \"phone3\",\n",
    "            \"race\",\n",
    "            \"pcp_npi\",\n",
    "            \"suffix\",\n",
    "            \"title\"]\n",
    "\n",
    "drop_pcts = [0.03,\n",
    "             0.03,\n",
    "             0.75,\n",
    "             0.06,\n",
    "             0.25,\n",
    "             0.07,\n",
    "             0.07,\n",
    "             0.07,\n",
    "             0.02,\n",
    "             0.02,\n",
    "             0.85,\n",
    "             0.85,\n",
    "             0.2,\n",
    "             0.2,\n",
    "             0.99,\n",
    "             0.2]\n",
    "\n",
    "synthetic.drop_per_column(left,left_indcs_df,drop_pct=drop_pcts,columns=columns)\n",
    "print(\"Per-Column Drop Complete.\")"
   ]
  },
  {
   "cell_type": "raw",
   "metadata": {},
   "source": [
    "right_indcs_df = {}"
   ]
  },
  {
   "cell_type": "raw",
   "metadata": {},
   "source": [
    "synthetic.string_transpose(right,right_indcs_df,4,0.05)\n",
    "print(\"Transpose Complete.\")\n",
    "synthetic.string_delete(right,right_indcs_df,3,0.05)\n",
    "print(\"Delete Complete.\")\n",
    "synthetic.string_insert_alpha(right,right_indcs_df,3,0.05,columns=[\"first_name\",\"last_name\",\"email\",\"address\",\"city\",\"title\"])\n",
    "print(\"Insert Alpha Complete.\")\n",
    "synthetic.string_insert_numeric(right,right_indcs_df,3,0.05,columns=[\"phone\",\"phone2\",\"phone3\",\"zip\"])\n",
    "print(\"Insert Numeric Complete.\")\n",
    "synthetic.soundex_string_corrupt(right,right_indcs_df,0.1,columns=[\"first_name\",\"last_name\"])\n",
    "print(\"Soundex Corrupt Complete.\")\n",
    "synthetic.edit_values(right,swap_set,right_indcs_df,0.1)\n",
    "print(\"Edit Values Complete.\")\n",
    "\n",
    "columns = [\"first_name\",\n",
    "            \"last_name\",\n",
    "            \"email\",\n",
    "            \"address\",\n",
    "            \"ssn\",\n",
    "            \"sex\",\n",
    "            \"city\",\n",
    "            \"zip\",\n",
    "            \"state\",\n",
    "            \"dob\",\n",
    "            \"phone\",\n",
    "            \"phone2\",\n",
    "            \"phone3\",\n",
    "            \"race\",\n",
    "            \"pcp_npi\",\n",
    "            \"suffix\",\n",
    "            \"title\"]\n",
    "\n",
    "drop_pcts = [0.03,\n",
    "             0.03,\n",
    "             0.75,\n",
    "             0.06,\n",
    "             0.25,\n",
    "             0.07,\n",
    "             0.07,\n",
    "             0.07,\n",
    "             0.02,\n",
    "             0.02,\n",
    "             0.85,\n",
    "             0.85,\n",
    "             0.2,\n",
    "             0.2,\n",
    "             0.99,\n",
    "             0.2]\n",
    "synthetic.drop_per_column(right,right_indcs_df,drop_pct=drop_pcts,columns=columns)\n",
    "print(\"Per-Column Drop Complete.\")"
   ]
  },
  {
   "cell_type": "raw",
   "metadata": {},
   "source": [
    "len(right_indcs_df)"
   ]
  },
  {
   "cell_type": "raw",
   "metadata": {},
   "source": [
    "len(left_indcs_df)"
   ]
  },
  {
   "cell_type": "raw",
   "metadata": {},
   "source": [
    "len(left)"
   ]
  },
  {
   "cell_type": "raw",
   "metadata": {},
   "source": [
    "len(right)"
   ]
  },
  {
   "cell_type": "raw",
   "metadata": {},
   "source": [
    "from scipy.sparse import dok_matrix"
   ]
  },
  {
   "cell_type": "raw",
   "metadata": {},
   "source": [
    "test_left_dok = dok_matrix(left_indcs_df)"
   ]
  },
  {
   "cell_type": "raw",
   "metadata": {},
   "source": [
    "import pickle"
   ]
  },
  {
   "cell_type": "raw",
   "metadata": {},
   "source": [
    "pickle.dump(left_indcs_df,open(\"left_stats.pkl\",\"wb\"))"
   ]
  },
  {
   "cell_type": "raw",
   "metadata": {},
   "source": [
    "pickle.dump(right_indcs_df,open(\"right_stats.pkl\",\"wb\"))"
   ]
  },
  {
   "cell_type": "raw",
   "metadata": {},
   "source": [
    "left.to_csv(\"corrupted_left_v2.csv\",index=None)\n",
    "right.to_csv(\"corrupted_right_v2.csv\",index=None)"
   ]
  },
  {
   "cell_type": "raw",
   "metadata": {},
   "source": [
    "out_df = pd.concat([left,right],axis=0,ignore_index=True)"
   ]
  },
  {
   "cell_type": "raw",
   "metadata": {},
   "source": [
    "out_df[\"id\"] = id_column"
   ]
  },
  {
   "cell_type": "raw",
   "metadata": {},
   "source": [
    "out_df[out_df.id == 299999]"
   ]
  },
  {
   "cell_type": "raw",
   "metadata": {},
   "source": [
    "right_indcs_df[(2,399999)]"
   ]
  },
  {
   "cell_type": "code",
   "execution_count": null,
   "metadata": {},
   "outputs": [],
   "source": []
  }
 ],
 "metadata": {
  "kernelspec": {
   "display_name": "Python 3",
   "language": "python",
   "name": "python3"
  },
  "language_info": {
   "codemirror_mode": {
    "name": "ipython",
    "version": 3
   },
   "file_extension": ".py",
   "mimetype": "text/x-python",
   "name": "python",
   "nbconvert_exporter": "python",
   "pygments_lexer": "ipython3",
   "version": "3.6.8"
  }
 },
 "nbformat": 4,
 "nbformat_minor": 2
}
